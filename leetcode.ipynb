{
 "cells": [
  {
   "cell_type": "markdown",
   "metadata": {},
   "source": [
    "\n",
    "## Question 1\n",
    "\n",
    "762. Prime Number of Set Bits in Binary Representation\n",
    "Easy\n",
    "Topics\n",
    "Companies\n",
    "Hint\n",
    "Given two integers left and right, return the count of numbers in the inclusive range [left, right] having a prime number of set bits in their binary representation.\n",
    "\n",
    "Recall that the number of set bits an integer has is the number of 1's present when written in binary.\n",
    "\n",
    "For example, 21 written in binary is 10101, which has 3 set bits.\n",
    " \n",
    "\n",
    "Example 1:\n",
    "\n",
    "Input: left = 6, right = 10\n",
    "Output: 4\n",
    "Explanation:\n",
    "6  -> 110 (2 set bits, 2 is prime)\n",
    "7  -> 111 (3 set bits, 3 is prime)\n",
    "8  -> 1000 (1 set bit, 1 is not prime)\n",
    "9  -> 1001 (2 set bits, 2 is prime)\n",
    "10 -> 1010 (2 set bits, 2 is prime)\n",
    "4 numbers have a prime number of set bits.\n",
    "Example 2:\n",
    "\n",
    "Input: left = 10, right = 15\n",
    "Output: 5\n",
    "Explanation:\n",
    "10 -> 1010 (2 set bits, 2 is prime)\n",
    "11 -> 1011 (3 set bits, 3 is prime)\n",
    "12 -> 1100 (2 set bits, 2 is prime)\n",
    "13 -> 1101 (3 set bits, 3 is prime)\n",
    "14 -> 1110 (3 set bits, 3 is prime)\n",
    "15 -> 1111 (4 set bits, 4 is not prime)\n",
    "5 numbers have a prime number of set bits.\n",
    " \n",
    "\n",
    "Constraints:\n",
    "\n",
    "1 <= left <= right <= 106\n",
    "0 <= right - left <= 104"
   ]
  },
  {
   "cell_type": "code",
   "execution_count": 1,
   "metadata": {},
   "outputs": [
    {
     "data": {
      "text/plain": [
       "5"
      ]
     },
     "execution_count": 1,
     "metadata": {},
     "output_type": "execute_result"
    }
   ],
   "source": [
    "def is_prime(cc):\n",
    "    if cc <= 1:\n",
    "        return False\n",
    "    elif cc == 2 or cc == 3:\n",
    "        return True\n",
    "    elif cc % 2 == 0:\n",
    "        return False\n",
    "\n",
    "    for i in range(3, int(cc**0.5) + 1, 2):\n",
    "        if cc % i == 0:\n",
    "            return False\n",
    "\n",
    "    return True\n",
    "\n",
    "def countPrimeSetBits(left,right):\n",
    "    count = 0\n",
    "    for i in range(left, right + 1):\n",
    "        set_bit_count = bin(i)[2:].count('1')\n",
    "        if is_prime(set_bit_count):\n",
    "            count += 1\n",
    "    return count\n",
    "\n",
    "countPrimeSetBits(10,15)"
   ]
  },
  {
   "cell_type": "code",
   "execution_count": 2,
   "metadata": {},
   "outputs": [
    {
     "data": {
      "text/plain": [
       "23"
      ]
     },
     "execution_count": 2,
     "metadata": {},
     "output_type": "execute_result"
    }
   ],
   "source": [
    "countPrimeSetBits(842,888)"
   ]
  },
  {
   "cell_type": "code",
   "execution_count": 3,
   "metadata": {},
   "outputs": [
    {
     "data": {
      "text/plain": [
       "59"
      ]
     },
     "execution_count": 3,
     "metadata": {},
     "output_type": "execute_result"
    }
   ],
   "source": [
    "countPrimeSetBits(84,188)"
   ]
  },
  {
   "cell_type": "markdown",
   "metadata": {},
   "source": [
    "## Question 2\n",
    "Get the Size of a DataFrame\n",
    "Easy\n",
    "Companies\n",
    "Hint\n",
    "DataFrame players:\n",
    "+-------------+--------+\n",
    "| Column Name | Type   |\n",
    "+-------------+--------+\n",
    "| player_id   | int    |\n",
    "| name        | object |\n",
    "| age         | int    |\n",
    "| position    | object |\n",
    "| ...         | ...    |\n",
    "+-------------+--------+\n",
    "Write a solution to calculate and display the number of rows and columns of players.\n",
    "\n",
    "Return the result as an array:\n",
    "\n",
    "[number of rows, number of columns]\n",
    "\n",
    "The result format is in the following example.\n",
    "\n",
    " \n",
    "\n",
    "Example 1:\n",
    "\n",
    "Input:\n",
    "+-----------+----------+-----+-------------+--------------------+\n",
    "| player_id | name     | age | position    | team               |\n",
    "+-----------+----------+-----+-------------+--------------------+\n",
    "| 846       | Mason    | 21  | Forward     | RealMadrid         |\n",
    "| 749       | Riley    | 30  | Winger      | Barcelona          |\n",
    "| 155       | Bob      | 28  | Striker     | ManchesterUnited   |\n",
    "| 583       | Isabella | 32  | Goalkeeper  | Liverpool          |\n",
    "| 388       | Zachary  | 24  | Midfielder  | BayernMunich       |\n",
    "| 883       | Ava      | 23  | Defender    | Chelsea            |\n",
    "| 355       | Violet   | 18  | Striker     | Juventus           |\n",
    "| 247       | Thomas   | 27  | Striker     | ParisSaint-Germain |\n",
    "| 761       | Jack     | 33  | Midfielder  | ManchesterCity     |\n",
    "| 642       | Charlie  | 36  | Center-back | Arsenal            |\n",
    "+-----------+----------+-----+-------------+--------------------+\n",
    "Output:\n",
    "[10, 5]\n",
    "Explanation:\n",
    "This DataFrame contains 10 rows and 5 columns."
   ]
  },
  {
   "cell_type": "code",
   "execution_count": 6,
   "metadata": {},
   "outputs": [],
   "source": [
    "import pandas as pd\n",
    "\n",
    "data = {\n",
    "    'player_id': [846, 749, 155, 583, 388, 883, 355, 247, 761, 642],\n",
    "    'name': ['Mason', 'Riley', 'Bob', 'Isabella', 'Zachary', 'Ava', 'Violet', 'Thomas', 'Jack', 'Charlie'],\n",
    "    'age': [21, 30, 28, 32, 24, 23, 18, 27, 33, 36],\n",
    "    'position': ['Forward', 'Winger', 'Striker', 'Goalkeeper', 'Midfielder', 'Defender', 'Striker', 'Striker', 'Midfielder', 'Center-back'],\n",
    "    'team': ['RealMadrid', 'Barcelona', 'ManchesterUnited', 'Liverpool', 'BayernMunich', 'Chelsea', 'Juventus', 'ParisSaint-Germain', 'ManchesterCity', 'Arsenal']\n",
    "}\n",
    "\n",
    "df = pd.DataFrame(data)"
   ]
  },
  {
   "cell_type": "code",
   "execution_count": 7,
   "metadata": {},
   "outputs": [
    {
     "data": {
      "text/html": [
       "<div>\n",
       "<style scoped>\n",
       "    .dataframe tbody tr th:only-of-type {\n",
       "        vertical-align: middle;\n",
       "    }\n",
       "\n",
       "    .dataframe tbody tr th {\n",
       "        vertical-align: top;\n",
       "    }\n",
       "\n",
       "    .dataframe thead th {\n",
       "        text-align: right;\n",
       "    }\n",
       "</style>\n",
       "<table border=\"1\" class=\"dataframe\">\n",
       "  <thead>\n",
       "    <tr style=\"text-align: right;\">\n",
       "      <th></th>\n",
       "      <th>player_id</th>\n",
       "      <th>name</th>\n",
       "      <th>age</th>\n",
       "      <th>position</th>\n",
       "      <th>team</th>\n",
       "    </tr>\n",
       "  </thead>\n",
       "  <tbody>\n",
       "    <tr>\n",
       "      <th>0</th>\n",
       "      <td>846</td>\n",
       "      <td>Mason</td>\n",
       "      <td>21</td>\n",
       "      <td>Forward</td>\n",
       "      <td>RealMadrid</td>\n",
       "    </tr>\n",
       "    <tr>\n",
       "      <th>1</th>\n",
       "      <td>749</td>\n",
       "      <td>Riley</td>\n",
       "      <td>30</td>\n",
       "      <td>Winger</td>\n",
       "      <td>Barcelona</td>\n",
       "    </tr>\n",
       "    <tr>\n",
       "      <th>2</th>\n",
       "      <td>155</td>\n",
       "      <td>Bob</td>\n",
       "      <td>28</td>\n",
       "      <td>Striker</td>\n",
       "      <td>ManchesterUnited</td>\n",
       "    </tr>\n",
       "    <tr>\n",
       "      <th>3</th>\n",
       "      <td>583</td>\n",
       "      <td>Isabella</td>\n",
       "      <td>32</td>\n",
       "      <td>Goalkeeper</td>\n",
       "      <td>Liverpool</td>\n",
       "    </tr>\n",
       "    <tr>\n",
       "      <th>4</th>\n",
       "      <td>388</td>\n",
       "      <td>Zachary</td>\n",
       "      <td>24</td>\n",
       "      <td>Midfielder</td>\n",
       "      <td>BayernMunich</td>\n",
       "    </tr>\n",
       "    <tr>\n",
       "      <th>5</th>\n",
       "      <td>883</td>\n",
       "      <td>Ava</td>\n",
       "      <td>23</td>\n",
       "      <td>Defender</td>\n",
       "      <td>Chelsea</td>\n",
       "    </tr>\n",
       "    <tr>\n",
       "      <th>6</th>\n",
       "      <td>355</td>\n",
       "      <td>Violet</td>\n",
       "      <td>18</td>\n",
       "      <td>Striker</td>\n",
       "      <td>Juventus</td>\n",
       "    </tr>\n",
       "    <tr>\n",
       "      <th>7</th>\n",
       "      <td>247</td>\n",
       "      <td>Thomas</td>\n",
       "      <td>27</td>\n",
       "      <td>Striker</td>\n",
       "      <td>ParisSaint-Germain</td>\n",
       "    </tr>\n",
       "    <tr>\n",
       "      <th>8</th>\n",
       "      <td>761</td>\n",
       "      <td>Jack</td>\n",
       "      <td>33</td>\n",
       "      <td>Midfielder</td>\n",
       "      <td>ManchesterCity</td>\n",
       "    </tr>\n",
       "    <tr>\n",
       "      <th>9</th>\n",
       "      <td>642</td>\n",
       "      <td>Charlie</td>\n",
       "      <td>36</td>\n",
       "      <td>Center-back</td>\n",
       "      <td>Arsenal</td>\n",
       "    </tr>\n",
       "  </tbody>\n",
       "</table>\n",
       "</div>"
      ],
      "text/plain": [
       "   player_id      name  age     position                team\n",
       "0        846     Mason   21      Forward          RealMadrid\n",
       "1        749     Riley   30       Winger           Barcelona\n",
       "2        155       Bob   28      Striker    ManchesterUnited\n",
       "3        583  Isabella   32   Goalkeeper           Liverpool\n",
       "4        388   Zachary   24   Midfielder        BayernMunich\n",
       "5        883       Ava   23     Defender             Chelsea\n",
       "6        355    Violet   18      Striker            Juventus\n",
       "7        247    Thomas   27      Striker  ParisSaint-Germain\n",
       "8        761      Jack   33   Midfielder      ManchesterCity\n",
       "9        642   Charlie   36  Center-back             Arsenal"
      ]
     },
     "execution_count": 7,
     "metadata": {},
     "output_type": "execute_result"
    }
   ],
   "source": [
    "df"
   ]
  },
  {
   "cell_type": "code",
   "execution_count": 12,
   "metadata": {},
   "outputs": [
    {
     "data": {
      "text/plain": [
       "[10, 5]"
      ]
     },
     "execution_count": 12,
     "metadata": {},
     "output_type": "execute_result"
    }
   ],
   "source": [
    "l = [df.shape[0],df.shape[1]]\n",
    "l"
   ]
  },
  {
   "cell_type": "markdown",
   "metadata": {},
   "source": [
    "1869. Longer Contiguous Segments of Ones than Zeros\n",
    "Easy\n",
    "Topics\n",
    "Companies\n",
    "Hint\n",
    "Given a binary string s, return true if the longest contiguous segment of 1's is strictly longer than the longest contiguous segment of 0's in s, or return false otherwise.\n",
    "\n",
    "For example, in s = \"110100010\" the longest continuous segment of 1s has length 2, and the longest continuous segment of 0s has length 3.\n",
    "Note that if there are no 0's, then the longest continuous segment of 0's is considered to have a length 0. The same applies if there is no 1's.\n",
    "\n",
    " \n",
    "\n",
    "Example 1:\n",
    "\n",
    "Input: s = \"1101\"\n",
    "Output: true\n",
    "Explanation:\n",
    "The longest contiguous segment of 1s has length 2: \"1101\"\n",
    "The longest contiguous segment of 0s has length 1: \"1101\"\n",
    "The segment of 1s is longer, so return true.\n",
    "Example 2:\n",
    "\n",
    "Input: s = \"111000\"\n",
    "Output: false\n",
    "Explanation:\n",
    "The longest contiguous segment of 1s has length 3: \"111000\"\n",
    "The longest contiguous segment of 0s has length 3: \"111000\"\n",
    "The segment of 1s is not longer, so return false.\n",
    "Example 3:\n",
    "\n",
    "Input: s = \"110100010\"\n",
    "Output: false\n",
    "Explanation:\n",
    "The longest contiguous segment of 1s has length 2: \"110100010\"\n",
    "The longest contiguous segment of 0s has length 3: \"110100010\"\n",
    "The segment of 1s is not longer, so return false."
   ]
  },
  {
   "cell_type": "code",
   "execution_count": 20,
   "metadata": {},
   "outputs": [
    {
     "data": {
      "text/plain": [
       "True"
      ]
     },
     "execution_count": 20,
     "metadata": {},
     "output_type": "execute_result"
    }
   ],
   "source": [
    "def checkZeroOnes(s):\n",
    "    l1=[0]\n",
    "    c1=0\n",
    "    c2=0\n",
    "    l2=[0]\n",
    "    for i in range(0,len(s)):\n",
    "        if s[i]=='1':\n",
    "            while i<len(s) and s[i]=='1':\n",
    "                i=i+1\n",
    "                c1=c1+1\n",
    "            l1.append(c1)\n",
    "            c1=0\n",
    "        elif s[i]=='0':\n",
    "            while i<len(s) and s[i]=='0':\n",
    "                i=i+1\n",
    "                c2=c2+1\n",
    "            l2.append(c2)\n",
    "            c2=0\n",
    "    return max(l1)>max(l2)\n",
    "checkZeroOnes('11001111100001101')\n"
   ]
  },
  {
   "cell_type": "code",
   "execution_count": null,
   "metadata": {},
   "outputs": [],
   "source": []
  },
  {
   "cell_type": "code",
   "execution_count": null,
   "metadata": {},
   "outputs": [],
   "source": []
  }
 ],
 "metadata": {
  "kernelspec": {
   "display_name": "Python 3",
   "language": "python",
   "name": "python3"
  },
  "language_info": {
   "codemirror_mode": {
    "name": "ipython",
    "version": 3
   },
   "file_extension": ".py",
   "mimetype": "text/x-python",
   "name": "python",
   "nbconvert_exporter": "python",
   "pygments_lexer": "ipython3",
   "version": "3.10.8"
  }
 },
 "nbformat": 4,
 "nbformat_minor": 2
}
