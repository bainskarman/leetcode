{
 "cells": [
  {
   "cell_type": "markdown",
   "metadata": {},
   "source": [
    "\n",
    "## Question 1\n",
    "\n",
    "762. Prime Number of Set Bits in Binary Representation\n",
    "Easy\n",
    "Topics\n",
    "Companies\n",
    "Hint\n",
    "Given two integers left and right, return the count of numbers in the inclusive range [left, right] having a prime number of set bits in their binary representation.\n",
    "\n",
    "Recall that the number of set bits an integer has is the number of 1's present when written in binary.\n",
    "\n",
    "For example, 21 written in binary is 10101, which has 3 set bits.\n",
    " \n",
    "\n",
    "Example 1:\n",
    "\n",
    "Input: left = 6, right = 10\n",
    "Output: 4\n",
    "Explanation:\n",
    "6  -> 110 (2 set bits, 2 is prime)\n",
    "7  -> 111 (3 set bits, 3 is prime)\n",
    "8  -> 1000 (1 set bit, 1 is not prime)\n",
    "9  -> 1001 (2 set bits, 2 is prime)\n",
    "10 -> 1010 (2 set bits, 2 is prime)\n",
    "4 numbers have a prime number of set bits.\n",
    "Example 2:\n",
    "\n",
    "Input: left = 10, right = 15\n",
    "Output: 5\n",
    "Explanation:\n",
    "10 -> 1010 (2 set bits, 2 is prime)\n",
    "11 -> 1011 (3 set bits, 3 is prime)\n",
    "12 -> 1100 (2 set bits, 2 is prime)\n",
    "13 -> 1101 (3 set bits, 3 is prime)\n",
    "14 -> 1110 (3 set bits, 3 is prime)\n",
    "15 -> 1111 (4 set bits, 4 is not prime)\n",
    "5 numbers have a prime number of set bits.\n",
    " \n",
    "\n",
    "Constraints:\n",
    "\n",
    "1 <= left <= right <= 106\n",
    "0 <= right - left <= 104"
   ]
  },
  {
   "cell_type": "code",
   "execution_count": 3,
   "metadata": {},
   "outputs": [
    {
     "data": {
      "text/plain": [
       "5"
      ]
     },
     "execution_count": 3,
     "metadata": {},
     "output_type": "execute_result"
    }
   ],
   "source": [
    "def is_prime(cc):\n",
    "    if cc <= 1:\n",
    "        return False\n",
    "    elif cc == 2 or cc == 3:\n",
    "        return True\n",
    "    elif cc % 2 == 0:\n",
    "        return False\n",
    "\n",
    "    for i in range(3, int(cc**0.5) + 1, 2):\n",
    "        if cc % i == 0:\n",
    "            return False\n",
    "\n",
    "    return True\n",
    "\n",
    "def countPrimeSetBits(left,right):\n",
    "    count = 0\n",
    "    for i in range(left, right + 1):\n",
    "        set_bit_count = bin(i)[2:].count('1')\n",
    "        if is_prime(set_bit_count):\n",
    "            count += 1\n",
    "    return count\n",
    "\n",
    "countPrimeSetBits(10,15)"
   ]
  },
  {
   "cell_type": "code",
   "execution_count": 4,
   "metadata": {},
   "outputs": [
    {
     "data": {
      "text/plain": [
       "23"
      ]
     },
     "execution_count": 4,
     "metadata": {},
     "output_type": "execute_result"
    }
   ],
   "source": [
    "countPrimeSetBits(842,888)"
   ]
  },
  {
   "cell_type": "code",
   "execution_count": null,
   "metadata": {},
   "outputs": [],
   "source": []
  }
 ],
 "metadata": {
  "kernelspec": {
   "display_name": "Python 3",
   "language": "python",
   "name": "python3"
  },
  "language_info": {
   "codemirror_mode": {
    "name": "ipython",
    "version": 3
   },
   "file_extension": ".py",
   "mimetype": "text/x-python",
   "name": "python",
   "nbconvert_exporter": "python",
   "pygments_lexer": "ipython3",
   "version": "3.10.8"
  }
 },
 "nbformat": 4,
 "nbformat_minor": 2
}
