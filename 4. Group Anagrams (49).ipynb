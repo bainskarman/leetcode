{
 "cells": [
  {
   "cell_type": "markdown",
   "metadata": {},
   "source": [
    "Given an array of strings strs, group the anagrams together. You can return the answer in any order.\n",
    "\n",
    "An Anagram is a word or phrase formed by rearranging the letters of a different word or phrase, typically using all the original letters exactly once.\n",
    "\n",
    " \n",
    "\n",
    "Example 1:\n",
    "\n",
    "Input: strs = [\"eat\",\"tea\",\"tan\",\"ate\",\"nat\",\"bat\"]\n",
    "Output: [[\"bat\"],[\"nat\",\"tan\"],[\"ate\",\"eat\",\"tea\"]]\n",
    "Example 2:\n",
    "\n",
    "Input: strs = [\"\"]\n",
    "Output: [[\"\"]]\n",
    "Example 3:\n",
    "\n",
    "Input: strs = [\"a\"]\n",
    "Output: [[\"a\"]]"
   ]
  },
  {
   "cell_type": "code",
   "execution_count": 23,
   "metadata": {},
   "outputs": [
    {
     "data": {
      "text/plain": [
       "[['eat', 'tea', 'ate'], ['tan', 'nat'], ['bat']]"
      ]
     },
     "execution_count": 23,
     "metadata": {},
     "output_type": "execute_result"
    }
   ],
   "source": [
    "strs = [\"eat\",\"tea\",\"tan\",\"ate\",\"nat\",\"bat\"]\n",
    "l = len(strs)\n",
    "lis = []\n",
    "visited = set()\n",
    "for i in range(len(strs)):\n",
    "    if i not in visited:\n",
    "        sublist = [strs[i]]\n",
    "        visited.add(i)\n",
    "        for j in range(i + 1, len(strs)):\n",
    "            if sorted(strs[i]) == sorted(strs[j]):\n",
    "                sublist.append(strs[j])\n",
    "                visited.add(j)\n",
    "        lis.append(sublist)\n",
    "lis"
   ]
  },
  {
   "cell_type": "code",
   "execution_count": 51,
   "metadata": {},
   "outputs": [
    {
     "data": {
      "text/plain": [
       "[['eat', 'tea', 'ate'], ['tan', 'nat'], ['bat']]"
      ]
     },
     "execution_count": 51,
     "metadata": {},
     "output_type": "execute_result"
    }
   ],
   "source": [
    "strs = [\"eat\",\"tea\",\"tan\",\"ate\",\"nat\",\"bat\"]\n",
    "anagrams = {}\n",
    "for i in strs:\n",
    "    key = tuple(sorted(i))\n",
    "    # Ensure the key exists with an empty list as default\n",
    "    anagrams[key] = anagrams.get(key, [])  \n",
    "    anagrams[key].append(i)\n",
    "list(anagrams.values())"
   ]
  },
  {
   "cell_type": "code",
   "execution_count": 44,
   "metadata": {},
   "outputs": [
    {
     "data": {
      "text/plain": [
       "['eat']"
      ]
     },
     "execution_count": 44,
     "metadata": {},
     "output_type": "execute_result"
    }
   ],
   "source": [
    "anagram={}\n",
    "key= tuple(sorted('ate'))anagram.get(('a', 'e', 't'), [])+['ate']"
   ]
  },
  {
   "cell_type": "code",
   "execution_count": null,
   "metadata": {},
   "outputs": [],
   "source": []
  }
 ],
 "metadata": {
  "kernelspec": {
   "display_name": "Python 3",
   "language": "python",
   "name": "python3"
  },
  "language_info": {
   "codemirror_mode": {
    "name": "ipython",
    "version": 3
   },
   "file_extension": ".py",
   "mimetype": "text/x-python",
   "name": "python",
   "nbconvert_exporter": "python",
   "pygments_lexer": "ipython3",
   "version": "3.10.13"
  }
 },
 "nbformat": 4,
 "nbformat_minor": 2
}
