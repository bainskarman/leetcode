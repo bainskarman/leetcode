{
 "cells": [
  {
   "cell_type": "markdown",
   "metadata": {},
   "source": [
    "Determine if a 9 x 9 Sudoku board is valid. Only the filled cells need to be validated according to the following rules:\n",
    "\n",
    "Each row must contain the digits 1-9 without repetition.\n",
    "Each column must contain the digits 1-9 without repetition.\n",
    "Each of the nine 3 x 3 sub-boxes of the grid must contain the digits 1-9 without repetition.\n",
    "Note:\n",
    "\n",
    "A Sudoku board (partially filled) could be valid but is not necessarily solvable.\n",
    "Only the filled cells need to be validated according to the mentioned rules."
   ]
  },
  {
   "cell_type": "code",
   "execution_count": 39,
   "metadata": {},
   "outputs": [
    {
     "data": {
      "text/plain": [
       "[['5', '3', '.', '.', '7', '.', '.', '.', '.'],\n",
       " ['6', '.', '.', '1', '9', '5', '.', '.', '.'],\n",
       " ['.', '9', '1', '.', '.', '.', '.', '6', '.'],\n",
       " ['8', '.', '.', '.', '6', '.', '.', '.', '3'],\n",
       " ['4', '.', '.', '8', '.', '3', '.', '.', '1'],\n",
       " ['7', '.', '.', '.', '2', '.', '.', '.', '6'],\n",
       " ['.', '6', '.', '.', '.', '.', '2', '8', '.'],\n",
       " ['.', '.', '.', '4', '1', '9', '.', '.', '5'],\n",
       " ['.', '.', '.', '.', '8', '.', '.', '7', '2']]"
      ]
     },
     "execution_count": 39,
     "metadata": {},
     "output_type": "execute_result"
    }
   ],
   "source": [
    "board =[[\"5\",\"3\",\".\",\".\",\"7\",\".\",\".\",\".\",\".\"]\n",
    ",[\"6\",\".\",\".\",\"1\",\"9\",\"5\",\".\",\".\",\".\"]\n",
    ",[\".\",\"9\",\"1\",\".\",\".\",\".\",\".\",\"6\",\".\"]\n",
    ",[\"8\",\".\",\".\",\".\",\"6\",\".\",\".\",\".\",\"3\"]\n",
    ",[\"4\",\".\",\".\",\"8\",\".\",\"3\",\".\",\".\",\"1\"]\n",
    ",[\"7\",\".\",\".\",\".\",\"2\",\".\",\".\",\".\",\"6\"]\n",
    ",[\".\",\"6\",\".\",\".\",\".\",\".\",\"2\",\"8\",\".\"]\n",
    ",[\".\",\".\",\".\",\"4\",\"1\",\"9\",\".\",\".\",\"5\"]\n",
    ",[\".\",\".\",\".\",\".\",\"8\",\".\",\".\",\"7\",\"2\"]]\n",
    "board"
   ]
  },
  {
   "cell_type": "code",
   "execution_count": 40,
   "metadata": {},
   "outputs": [
    {
     "name": "stdout",
     "output_type": "stream",
     "text": [
      "False\n",
      "True\n"
     ]
    }
   ],
   "source": [
    "l=len(board)\n",
    "tboard = [[board[j][i] for j in range(l)] for i in range(l)]\n",
    "for i in range(l):\n",
    "    for j in board[i]:\n",
    "        if board[i].count(j)>1 and j!='.':\n",
    "            print(False)\n",
    "            break\n",
    "for i in range(l):\n",
    "    for j in tboard[i]:\n",
    "        if tboard[i].count(j)>1 and j!='.':\n",
    "            print(False)\n",
    "            break\n",
    "for i in range(0, l, 3):\n",
    "    for j in range(0, l, 3):\n",
    "        sub_matrix = [board[x][y] for x in range(i, i + 3) for y in range(j, j + 3)]\n",
    "        for num in sub_matrix:\n",
    "            if num != '.' and sub_matrix.count(num) > 1:\n",
    "                print(False)\n",
    "                break\n",
    "print(True)"
   ]
  },
  {
   "cell_type": "code",
   "execution_count": 48,
   "metadata": {},
   "outputs": [
    {
     "name": "stdout",
     "output_type": "stream",
     "text": [
      "5\n",
      "3\n",
      ".\n",
      "6\n",
      ".\n",
      ".\n",
      ".\n",
      "9\n",
      "1\n",
      ".\n",
      "7\n",
      ".\n",
      "1\n",
      "9\n",
      "5\n",
      ".\n",
      ".\n",
      ".\n",
      ".\n",
      ".\n",
      ".\n",
      ".\n",
      ".\n",
      ".\n",
      ".\n",
      "6\n",
      ".\n",
      "8\n",
      ".\n",
      ".\n",
      "4\n",
      ".\n",
      ".\n",
      "7\n",
      ".\n",
      ".\n",
      ".\n",
      "6\n",
      ".\n",
      "8\n",
      ".\n",
      "3\n",
      ".\n",
      "2\n",
      ".\n",
      ".\n",
      ".\n",
      "3\n",
      ".\n",
      ".\n",
      "1\n",
      ".\n",
      ".\n",
      "6\n",
      ".\n",
      "6\n",
      ".\n",
      ".\n",
      ".\n",
      ".\n",
      ".\n",
      ".\n",
      ".\n",
      ".\n",
      ".\n",
      ".\n",
      "4\n",
      "1\n",
      "9\n",
      ".\n",
      "8\n",
      ".\n",
      "2\n",
      "8\n",
      ".\n",
      ".\n",
      ".\n",
      "5\n",
      ".\n",
      "7\n",
      "2\n"
     ]
    }
   ],
   "source": [
    "for i in range(0, l, 3):\n",
    "    for j in range(0, l, 3):\n",
    "        sub_matrix = []\n",
    "        for x in range(i, i + 3):\n",
    "            for y in range(j, j + 3):\n",
    "                sub_matrix.append(board[x][y])"
   ]
  },
  {
   "cell_type": "code",
   "execution_count": null,
   "metadata": {},
   "outputs": [],
   "source": []
  }
 ],
 "metadata": {
  "kernelspec": {
   "display_name": "Python 3",
   "language": "python",
   "name": "python3"
  },
  "language_info": {
   "codemirror_mode": {
    "name": "ipython",
    "version": 3
   },
   "file_extension": ".py",
   "mimetype": "text/x-python",
   "name": "python",
   "nbconvert_exporter": "python",
   "pygments_lexer": "ipython3",
   "version": "3.10.13"
  }
 },
 "nbformat": 4,
 "nbformat_minor": 2
}
